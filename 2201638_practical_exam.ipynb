{
  "nbformat": 4,
  "nbformat_minor": 0,
  "metadata": {
    "colab": {
      "provenance": [],
      "authorship_tag": "ABX9TyMHjfZMFKkLWVu41GOPghE8",
      "include_colab_link": true
    },
    "kernelspec": {
      "name": "python3",
      "display_name": "Python 3"
    },
    "language_info": {
      "name": "python"
    }
  },
  "cells": [
    {
      "cell_type": "markdown",
      "metadata": {
        "id": "view-in-github",
        "colab_type": "text"
      },
      "source": [
        "<a href=\"https://colab.research.google.com/github/anish1050/Pandas-Google-Collab/blob/main/2201638_practical_exam.ipynb\" target=\"_parent\"><img src=\"https://colab.research.google.com/assets/colab-badge.svg\" alt=\"Open In Colab\"/></a>"
      ]
    },
    {
      "cell_type": "code",
      "execution_count": 11,
      "metadata": {
        "colab": {
          "base_uri": "https://localhost:8080/"
        },
        "id": "NgB6L_lTYQDK",
        "outputId": "d81b0079-7e3f-44c9-b603-8cd7d2526c78"
      },
      "outputs": [
        {
          "output_type": "stream",
          "name": "stdout",
          "text": [
            "Mounted at /content/drive\n",
            "Marketing expense      260\n",
            "Production expense       0\n",
            "Multiplex coverage       0\n",
            "Budget                  60\n",
            "Movie_length           160\n",
            "Lead_ Actor_Rating     100\n",
            "Lead_Actress_rating    100\n",
            "Critic_rating          100\n",
            "Director_rating        190\n",
            "Producer_rating        190\n",
            "Trailer_views          190\n",
            "dtype: int64\n"
          ]
        }
      ],
      "source": [
        "import pandas as pd\n",
        "import numpy as np\n",
        "import matplotlib.pyplot as plt\n",
        "\n",
        "from google.colab import drive\n",
        "drive.mount('/content/drive', force_remount=\"true\")\n",
        "file_path = '/content/drive/My Drive/Movie_classification.csv'\n",
        "\n",
        "# 3\n",
        "df = pd.read_csv(file_path)\n",
        "\n",
        "read_df = pd.read_csv(file_path)\n",
        "\n",
        "# 4\n",
        "selected_columns_1 = df.iloc[:, [0, 1, 2, 3, 4, 5, 6, 9]]\n",
        "filtered_data_1 = selected_columns_1.tail(90)\n",
        "\n",
        "selected_columns_2 = df.iloc[:, [1, 2, 5, 6, 7, 8, 9, 10]]\n",
        "filtered_data_2 = pd.concat([selected_columns_2.head(30), selected_columns_2.tail(30)])\n",
        "\n",
        "selected_columns_3 = df.iloc[:, [1, 2, 3, 4, 5, 9, 10]]\n",
        "filtered_data_3 = selected_columns_3.head(100)\n",
        "\n",
        "selected_columns_4 = df.iloc[:, [1, 2, 3, 6, 7, 8]]\n",
        "filtered_data_4 = selected_columns_4.head(100)\n",
        "\n",
        "filtered_data_1.to_csv('filtered_data_1.csv', index='false')\n",
        "\n",
        "# 5\n",
        "combined_df = pd.concat([filtered_data_1, filtered_data_2, filtered_data_3, filtered_data_4])\n",
        "\n",
        "# combined_df.to_csv('combined_data.csv', index='false')\n",
        "\n",
        "# 6\n",
        "print(combined_df.isnull().sum())\n",
        "\n",
        "# 7\n",
        "# def plot_data(df, sr_no, x_col, y_col):\n",
        "\n",
        "#   if sr_no in [28, 32, 36, 40, 44, 48, 52]:\n",
        "#     # Scatter plot\n",
        "#     plt.figure(figsize=(8, 6))\n",
        "#     plt.scatter(df[x_col], df[y_col])\n",
        "#     plt.title(f\"Scatter Plot for Serial Number {sr_no}\")\n",
        "#     plt.xlabel(x_col)\n",
        "#     plt.ylabel(y_col)\n",
        "#     plt.show()\n",
        "\n",
        "#     # Histogram\n",
        "#     plt.figure(figsize=(8, 6))\n",
        "#     plt.hist(df[x_col], bins=10)\n",
        "#     plt.title(f\"Histogram\")\n",
        "#     plt.xlabel(x_col)\n",
        "#     plt.ylabel(\"Frequency\")\n",
        "#     plt.show()\n",
        "\n",
        "# plot_data(combined_df, 28, 'Time', 'Rating')\n"
      ]
    }
  ]
}