
# Notebook 2: Exploratory Data Analysis (EDA)

import pandas as pd
import matplotlib.pyplot as plt
import seaborn as sns

# Load cleaned data
df = pd.read_csv('forum_posts_cleaned.csv')

# Text length
df['text_length'] = df['text'].apply(lambda x: len(x.split()))
print("Average number of words:", df['text_length'].mean())

# Questions vs statements count
print(df['is_question'].value_counts())

# Histogram of text lengths
plt.hist(df['text_length'], bins=20, color='skyblue', edgecolor='black')
plt.title('Distribution of Post Lengths')
plt.xlabel('Words per Post')
plt.ylabel('Number of Posts')
plt.show()

# Pie chart of questions vs statements
sizes = df['is_question'].value_counts()
labels = ['Statement', 'Question']
plt.pie(sizes, labels=labels, autopct='%1.1f%%', startangle=140, colors=['lightcoral', 'lightskyblue'])
plt.title('Questions vs Statements')
plt.axis('equal')
plt.show()

# Average text length by type
print(df.groupby('is_question')['text_length'].mean())
