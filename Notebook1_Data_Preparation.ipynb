
# Notebook 1: Data Selection, Cleaning, and Wrangling

import pandas as pd
import string

# Load the dataset
df = pd.read_csv('forum_posts_dataset.csv')
print(df.head())

# Dataset info
print(df.info())

# Missing values
print(df.isnull().sum())

# Convert timestamp to datetime
df['timestamp'] = pd.to_datetime(df['timestamp'])

# Clean text: lowercase and remove punctuation
df['text'] = df['text'].str.lower()
df['text'] = df['text'].str.translate(str.maketrans('', '', string.punctuation))

# Save cleaned version
df.to_csv('forum_posts_cleaned.csv', index=False)

print("Data cleaning completed!")
